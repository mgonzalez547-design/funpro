{
  "nbformat": 4,
  "nbformat_minor": 0,
  "metadata": {
    "colab": {
      "provenance": []
    },
    "kernelspec": {
      "name": "python3",
      "display_name": "Python 3"
    },
    "language_info": {
      "name": "python"
    }
  },
  "cells": [
    {
      "cell_type": "markdown",
      "source": [
        "Desarrollar los siguientes ejercicios\n",
        "1. Desarrollar un sistema de riego de tal forma que:\n",
        "\n",
        "\n",
        "*   Riegue si humedad_suelo < 35 y prob_lluvia < 40.\n",
        "*   No regar entre 11–15 si temp_c > 30 (evitar evaporación).\n",
        "* Si prob_lluvia >= 70, nunca regar.\n",
        "* Si el sensor no detecta ningún valor, el sistema debe imprimir \"Error sensor\"\n",
        "\n",
        "2. Desarrollar un sistema de tarifación de energía que pida:\n",
        "* Cantidad de kilobatios consumidos (Kwh), estrato, día de la semana en la cuál se realiza la medición.\n",
        "* Base=kwh*620\n",
        "* Hay descuento del 20% si pertenece al estrato 0, 1 y 2.\n",
        "* Si es festivo o día de la semana, se debe aplicar un tope. Los Kwh no pueden superar los 1000 o recibirá un recargo de 800 por Kwh\n",
        "* Si Kwh<0 o estrato no es válido, se debe indicar un Error y programar una visita al predio."
      ],
      "metadata": {
        "id": "GUaGgbsp11Yo"
      }
    },
    {
      "cell_type": "code",
      "execution_count": null,
      "metadata": {
        "id": "nvMkW4DbqMzb"
      },
      "outputs": [],
      "source": []
    }
  ]
}