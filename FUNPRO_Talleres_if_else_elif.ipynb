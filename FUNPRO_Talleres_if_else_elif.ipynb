{
  "nbformat": 4,
  "nbformat_minor": 0,
  "metadata": {
    "colab": {
      "provenance": [],
      "include_colab_link": true
    },
    "kernelspec": {
      "name": "python3",
      "display_name": "Python 3"
    },
    "language_info": {
      "name": "python"
    }
  },
  "cells": [
    {
      "cell_type": "markdown",
      "metadata": {
        "id": "view-in-github",
        "colab_type": "text"
      },
      "source": [
        "<a href=\"https://colab.research.google.com/github/mgonzalez547-design/funpro/blob/main/FUNPRO_Talleres_if_else_elif.ipynb\" target=\"_parent\"><img src=\"https://colab.research.google.com/assets/colab-badge.svg\" alt=\"Open In Colab\"/></a>"
      ]
    },
    {
      "cell_type": "markdown",
      "source": [
        "Desarrollar los siguientes ejercicios\n",
        "1. Desarrollar un sistema de riego de tal forma que:\n",
        "\n",
        "\n",
        "*   Riegue si humedad_suelo < 35 y prob_lluvia < 40.\n",
        "*   No regar entre 11–15 si temp_c > 30 (evitar evaporación).\n",
        "* Si prob_lluvia >= 70, nunca regar.\n",
        "* Si el sensor no detecta ningún valor, el sistema debe imprimir \"Error sensor\"\n",
        "\n",
        "2. Desarrollar un sistema de tarifación de energía que pida:\n",
        "* Cantidad de kilobatios consumidos (Kwh), estrato, día de la semana en la cuál se realiza la medición.\n",
        "* Base=kwh*620\n",
        "* Hay descuento del 20% si pertenece al estrato 0, 1 y 2.\n",
        "* Si es festivo o día de la semana, se debe aplicar un tope. Los Kwh no pueden superar los 1000 o recibirá un recargo de 800 por Kwh\n",
        "* Si Kwh<0 o estrato no es válido, se debe indicar un Error y programar una visita al predio."
      ],
      "metadata": {
        "id": "GUaGgbsp11Yo"
      }
    },
    {
      "cell_type": "code",
      "metadata": {
        "id": "51968595"
      },
      "source": [
        "humedad_suelo = input(\"Ingrese la humedad del suelo: \")\n",
        "prob_lluvia = input(\"Ingrese la probabilidad de lluvia: \")\n",
        "temp_c = input(\"Ingrese la temperatura: \")\n",
        "hora = input(\"Ingrese la hora actual (24 horas): \")\n",
        "\n",
        "if humedad_suelo == \"\" or prob_lluvia == \"\" or temp_c == \"\" or hora == \"\":\n",
        "    print(\"Error sensor\")\n",
        "\n",
        "if humedad_suelo < 35 and prob_lluvia < 40:\n",
        "    if 11 <= hora <= 15 and temp_c > 30:\n",
        "        print(\"No regar\")\n",
        "    elif prob_lluvia >= 70:\n",
        "        print(\"Nunca regar\")\n",
        "    else:\n",
        "        print(\"Regar.\")\n",
        "elif prob_lluvia >= 70:\n",
        "      print(\"Nunca regar.\")\n",
        "else:\n",
        "    print(\"No regar.\")"
      ],
      "execution_count": null,
      "outputs": []
    },
    {
      "cell_type": "code",
      "metadata": {
        "id": "e337ce76"
      },
      "source": [
        "kwh = input(\"Ingrese kilovatios: \")\n",
        "estrato = input(\"Ingrese el estrato: \")\n",
        "dia_semana = input(\"Ingrese el día de la semana o si es festivo \")\n",
        "\n",
        "if kwh < 0 or estrato not in range(7):\n",
        "    print(\"Error: Kwh o estrato no válido. Se programará una visita al predio.\")\n",
        "else:\n",
        "    base = kwh * 620\n",
        "    descuento = 0\n",
        "    recargo = 0\n",
        "\n",
        "    if estrato in [0, 1, 2]:\n",
        "        descuento = base * 0.20\n",
        "\n",
        "    if dia_semana in [\"sabado\", \"domingo\", \"festivo\"]:\n",
        "          if kwh > 1000:\n",
        "            recargo = (kwh - 1000) * 800\n",
        "            print(\"Se aplicó un recargo por superar los 1000 Kwh en día con tope.\")\n",
        "\n",
        "\n",
        "    total = base - descuento + recargo\n",
        "    print(f\"Base: {base:.2f}\")\n",
        "    print(f\"Descuento: {descuento:.2f}\")\n",
        "    print(f\"Recargo: {recargo:.2f}\")\n",
        "    print(f\"Total a pagar: {total:.2f}\")"
      ],
      "execution_count": null,
      "outputs": []
    }
  ]
}