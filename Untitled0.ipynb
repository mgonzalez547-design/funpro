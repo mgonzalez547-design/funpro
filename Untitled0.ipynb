{
  "nbformat": 4,
  "nbformat_minor": 0,
  "metadata": {
    "colab": {
      "provenance": [],
      "authorship_tag": "ABX9TyOPzbUO3KtItqDzxoc0ZZ01",
      "include_colab_link": true
    },
    "kernelspec": {
      "name": "python3",
      "display_name": "Python 3"
    },
    "language_info": {
      "name": "python"
    }
  },
  "cells": [
    {
      "cell_type": "markdown",
      "metadata": {
        "id": "view-in-github",
        "colab_type": "text"
      },
      "source": [
        "<a href=\"https://colab.research.google.com/github/mgonzalez547-design/funpro/blob/main/Untitled0.ipynb\" target=\"_parent\"><img src=\"https://colab.research.google.com/assets/colab-badge.svg\" alt=\"Open In Colab\"/></a>"
      ]
    },
    {
      "cell_type": "code",
      "execution_count": 8,
      "metadata": {
        "id": "Jmw4Os_CSC5x",
        "colab": {
          "base_uri": "https://localhost:8080/"
        },
        "outputId": "4fb46988-f3fa-4cf8-cbc2-d075f8b3959e"
      },
      "outputs": [
        {
          "name": "stdout",
          "output_type": "stream",
          "text": [
            "Detecto poca gasolina en el tanque\n",
            "Desea ir a la gasolinera mas cercana?\n",
            "si\n"
          ]
        }
      ],
      "source": [
        " #ejemplo1: AI para gasolina\n",
        "respuesta= \"\" #Declaramos una variable como caracter\n",
        "#para imprimir, usamos el comando print\n",
        "print (\"Detecto poca gasolina en el tanque\")\n",
        "print (\"Desea ir a la gasolinera mas cercana?\")\n",
        "#funcion input para leer respuestas\n",
        "respuesta=input()"
      ]
    },
    {
      "cell_type": "code",
      "source": [
        "if respuesta==\"si\":\n",
        "  print(\"Ir a la gasolinera más cercana\")\n",
        "else:\n",
        "  print(\"seguimos derecho\")"
      ],
      "metadata": {
        "colab": {
          "base_uri": "https://localhost:8080/"
        },
        "id": "I84fmtazenO_",
        "outputId": "efe883fc-c87f-4cb3-96ea-8e15174e46ee"
      },
      "execution_count": 9,
      "outputs": [
        {
          "output_type": "stream",
          "name": "stdout",
          "text": [
            "Ir a la gasolinera más cercana\n"
          ]
        }
      ]
    },
    {
      "cell_type": "code",
      "source": [
        "#Vamos a mejorar el ejercicio\n",
        "import random #importando la libreria random\n",
        "gasolina=random.randint(1,100)#Hallar un número aleatorio\n",
        "gasolina\n",
        "if gasolina<=10:\n",
        "  respuesta=input(\"Detecto poca gasolina en el tanque\\nDesea ir a la gasolinera mas cercana?\")\n",
        "  if respuesta==\"si\":\n",
        "    print(\"Ir a la gasolinera más cercana\")\n",
        "  else:\n",
        "    print(\"Seguimos derecho\")\n",
        "else:\n",
        "  print(\"El tanque está lleno\")"
      ],
      "metadata": {
        "id": "ZwazHc_OgTdl",
        "colab": {
          "base_uri": "https://localhost:8080/"
        },
        "outputId": "4c549aaf-be03-4deb-f59e-fbc634688d11"
      },
      "execution_count": 10,
      "outputs": [
        {
          "output_type": "execute_result",
          "data": {
            "text/plain": [
              "56"
            ]
          },
          "metadata": {},
          "execution_count": 10
        }
      ]
    },
    {
      "cell_type": "markdown",
      "source": [
        "##Estructura si/entonces if/else\n",
        "sirve para evaluar una condicion.\n",
        "estas condiciones daran un valor de verdad sintaxis\n",
        "\n",
        "\n",
        "```\n",
        "if(condicion):\n",
        "aqui va algo,si la condicion es verdadera\n",
        "else:\n",
        "aqui va algo si la condicion es falsa\n",
        "```\n",
        "\n"
      ],
      "metadata": {
        "id": "k7xk6XOKTxPZ"
      }
    }
  ]
}