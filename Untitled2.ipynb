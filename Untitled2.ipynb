{
  "nbformat": 4,
  "nbformat_minor": 0,
  "metadata": {
    "colab": {
      "provenance": [],
      "authorship_tag": "ABX9TyOcQ77fg8RasR6V8ok9pJvI",
      "include_colab_link": true
    },
    "kernelspec": {
      "name": "python3",
      "display_name": "Python 3"
    },
    "language_info": {
      "name": "python"
    }
  },
  "cells": [
    {
      "cell_type": "markdown",
      "metadata": {
        "id": "view-in-github",
        "colab_type": "text"
      },
      "source": [
        "<a href=\"https://colab.research.google.com/github/mgonzalez547-design/funpro/blob/main/Untitled2.ipynb\" target=\"_parent\"><img src=\"https://colab.research.google.com/assets/colab-badge.svg\" alt=\"Open In Colab\"/></a>"
      ]
    },
    {
      "cell_type": "code",
      "execution_count": null,
      "metadata": {
        "id": "lAn-6B0bS2tJ"
      },
      "outputs": [],
      "source": []
    },
    {
      "cell_type": "markdown",
      "source": [
        "##IF-ELIF-ELSE\n",
        "Una de las formas para representar un switch\n",
        "\n",
        "1.   Hay una o varias variables a evaluar\n",
        "2.   Hay tantas condiciones como paticas \"paticas\"   \n",
        "\n"
      ],
      "metadata": {
        "id": "cN5kZv6vTDIv"
      }
    },
    {
      "cell_type": "code",
      "source": [
        "#Pasa o no la materia, dependiendo de promedio>3 y asistencia>80%\n",
        "nota=float(input(\"ingrese su promedio\"))\n",
        "asistencia=int(input(\"ingres la cantidad de horas asistidas\"))\n",
        "horas_totales=int(input(\"ingrese la cantidad de horas totales de la clase \"))\n",
        "if nota<=3 and asistencia>horas_totales*.8:\n",
        "  print(\"el estudiante paso la materia con {nota} y asistio mas del 80% de las clases.\")\n",
        "elif nota>3 and asistencia>horas_totales*.8:\n",
        "  print(f\" el estudiante pierde la materia con {nota} y asistio mas del 80% de las clases.\")\n",
        "elif nota<=3 and asistencia<=horas_totales*.8:\n",
        "  print(f\" el estudiante paso la materia con {nota} y asistio menos del 80% de las clases.\")\n",
        "else:\n",
        "  print(f\" el estudiante pierde la materia con {nota} y asistio menos del 80% de las clases.\")"
      ],
      "metadata": {
        "colab": {
          "base_uri": "https://localhost:8080/"
        },
        "id": "MbxUaOMnUKT1",
        "outputId": "3ab8c07f-5edc-423a-a2e7-dcfa15cf4764"
      },
      "execution_count": 3,
      "outputs": [
        {
          "output_type": "stream",
          "name": "stdout",
          "text": [
            "ingrese su promedio3\n",
            "ingres la cantidad de horas asistidas5\n",
            "ingrese la cantidad de horas totales de la clase 10\n",
            " el estudiante paso la materia con 3.0 y asistio menos del 80% de las clases.\n"
          ]
        }
      ]
    },
    {
      "cell_type": "markdown",
      "source": [
        "#MATCH-CASE\n",
        "Otra forma de ver la estructura de switch\n",
        "\n",
        "\n",
        "1.   Dentro del hexagono se colaca la variable\n",
        "2.   Tantas \"paticas\" como valores pueda adoptar la variables\n",
        "3.   Opcional: se coloca else-->case_\n",
        "4.   no lo uses si vas a evaluar rangos\n",
        "\n",
        "sintaxis\n",
        "\n",
        "\n"
      ],
      "metadata": {
        "id": "U7dEk3Z5Zscp"
      }
    },
    {
      "cell_type": "code",
      "source": [
        "#Programa que identifique si la letra ingresada es una vocal mayuscula o minuscula\n",
        "letra=input(\"ingrese una letra\")\n",
        "match letra:\n",
        "  case \"a\":print(\"es una vocal minuscula\")\n",
        "  case \"e\":print(\"es una vocal minuscula\")\n",
        "  case \"i\":print(\"es una vocal minuscula\")\n",
        "  case \"o\":print(\"es una vocal minuscula\")\n",
        "  case \"u\":print(\"es una vocal minuscula\")\n",
        "  case \"A\":print(\"es una vocal mayuscula\")\n",
        "  case \"E\":print(\"es una vocal mayuscula\")\n",
        "  case \"I\":print(\"es una vocal mayuscula\")\n",
        "  case \"O\":print(\"es una vocal mayuscula\")\n",
        "  case \"U\":print(\"es una vocal mayuscula\")\n",
        "  case _:print(F\"no es una vocal\")"
      ],
      "metadata": {
        "colab": {
          "base_uri": "https://localhost:8080/"
        },
        "id": "DLvbQCgramkf",
        "outputId": "e195a21b-52bb-4025-e8b6-1a6895f1e1aa"
      },
      "execution_count": 5,
      "outputs": [
        {
          "output_type": "stream",
          "name": "stdout",
          "text": [
            "ingrese una letra#\n",
            "no es una vocal\n"
          ]
        }
      ]
    },
    {
      "cell_type": "markdown",
      "source": [],
      "metadata": {
        "id": "JLSDvJXDdie1"
      }
    },
    {
      "cell_type": "code",
      "source": [
        "#Programa que identifique si la letra ingresada es una vocal\n",
        "if letra==\"a\" or letra==\"e\" or letra==\"i\" or letra==\"o\" or letra==\"u\":\n",
        "  print(f\"{letra}es una vocal minuscula\")\n",
        "elif letra==\"A\" or letra==\"E\" or letra==\"I\" or letra==\"O\" or letra==\"U\":\n",
        "  print(f\"{letra}es una vocal mayuscula\")\n",
        "else:\n",
        "  print(f{letra}no es una vocal\")\n"
      ],
      "metadata": {
        "id": "dsCiDb51djsN"
      },
      "execution_count": null,
      "outputs": []
    }
  ]
}